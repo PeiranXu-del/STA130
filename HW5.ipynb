{
 "cells": [
  {
   "cell_type": "markdown",
   "id": "7b7e19e8",
   "metadata": {},
   "source": [
    "A. Watch this first pre-lecture video (\"Hypothesis testing. Null vs alternative\") addressing the question \"What is a hypothesis?\""
   ]
  },
  {
   "cell_type": "markdown",
   "id": "bd94527a",
   "metadata": {},
   "source": [
    "A hypothesis is a statement about a phenomenon or parameter, usually used to perform a statistical test. There are two types of hypotheses in hypothesis testing: the null hypothesis (usually stating that there is no effect or difference) and the alternative hypothesis (stating that there is an effect or difference). Hypothesis testing is used to decide whether to reject the null hypothesis through data analysis."
   ]
  },
  {
   "cell_type": "markdown",
   "id": "355c6d06",
   "metadata": {},
   "source": [
    "B. Watch this second pre-lecture video (\"What is a p-value\") providing an intuitivie introduction to p-values"
   ]
  },
  {
   "cell_type": "markdown",
   "id": "db5d4a2a",
   "metadata": {},
   "source": [
    "P-value is an indicator in statistical hypothesis testing that measures the probability of the observed result or more extreme result occurring if the null hypothesis is true. The smaller the P-value, the more inconsistent the data is with the null hypothesis, so there is more evidence to support rejecting the null hypothesis. Usually, when the P-value is less than a set significance level (such as 0.05), the null hypothesis will be rejected."
   ]
  },
  {
   "cell_type": "markdown",
   "id": "671adcca",
   "metadata": {},
   "source": [
    "1. The \"first pre-lecture video\" (above) describes hypothesis testing as addressing \"an idea that can be tested\", and the end of the video then discusses what our actual intended purpose in setting up a null hypothesis is. What is the key factor that makes the difference between ideas that can, and cannot be examined and tested statistically? What would you describe is the key \"criteria\" defining what a good null hypothesis is? And what is the difference between a null hypothesis and an alternative hypothesis in the context of hypothesis testing? Answer these questions with concise explanations in your own words.\n"
   ]
  },
  {
   "cell_type": "markdown",
   "id": "a342991c",
   "metadata": {},
   "source": [
    "In hypothesis testing, ideas that can be statistically tested are clear statements or hypotheses that can be verified or disproven by data. Ideas that cannot be tested are vague, subjective, or non-quantifiable. The key criteria for a well-defined null hypothesis are that it must be quantifiable, clear, and able to be verified or disproven by data."
   ]
  },
  {
   "cell_type": "markdown",
   "id": "a2349cc1",
   "metadata": {},
   "source": [
    "2. Towards the end of the \"first pre-lecture\" video (above) it is stated that, \"It is important to note that outcomes of tests refer to the population parameter, rather than the sample statistic! As such, the result that we get is for the population.\" In terms of the distinctions between the concepts of \n",
    "'s, and , how would you describe what the sentence above means? Explain this concisely in your own words for a \"non-statsitical\" audience, defining the technical statistical terminology you use in your answer."
   ]
  },
  {
   "cell_type": "markdown",
   "id": "344e0b8b",
   "metadata": {},
   "source": [
    "We use sample data to conduct hypothesis testing in order to infer the overall situation, rather than just the sample itself. In other words, the test results reflect the true characteristics of the population, not just what we observe in the sample."
   ]
  },
  {
   "cell_type": "markdown",
   "id": "bc1b12f4",
   "metadata": {},
   "source": [
    "3. The second \"Pre-lecture\" video (above) explains that we \"imagine a world where the null hypothesis is true\" when calculating a p-value? Explain why this is in your own words in a way that makes the most sense to you."
   ]
  },
  {
   "cell_type": "markdown",
   "id": "35d14bef",
   "metadata": {},
   "source": [
    "When calculating the p-value, we assume that the null hypothesis is true in order to assess how unusual the data is in this situation. By assuming that the null hypothesis is true, we can calculate the probability of the observed data or more extreme data occurring."
   ]
  },
  {
   "cell_type": "markdown",
   "id": "00a564c7",
   "metadata": {},
   "source": [
    "4. The second \"Pre-lecture\" video (above) describes suggest that a smaller p-value makes the null hypothesis look more ridiculous. Explain why this is in your own words in a way that makes the most sense to you, clarifying the meaning of any technical statistical terminology you use in your answer."
   ]
  },
  {
   "cell_type": "markdown",
   "id": "74d3cd39",
   "metadata": {},
   "source": [
    "A small p-value indicates that the observed data are extremely unlikely to have occurred given that the null hypothesis is true."
   ]
  },
  {
   "cell_type": "markdown",
   "id": "cbfb8ecd",
   "metadata": {},
   "source": [
    "5. Güntürkün (2003) recorded how kissing couples tilt their heads. 80 out of 124 couples, or 64.5% tilted their heads to the right. Simulate a p-value using a \"50/50 coin-flipping\" model for the assumption of the null hypothesis \n",
    " that the population of humans don't have left or right head tilt tendencies when kissing, and use the table below to determine the level of evidence we have against."
   ]
  },
  {
   "cell_type": "markdown",
   "id": "61586657",
   "metadata": {},
   "source": [
    "According to the calculation, the p-value is 0.0016 (four decimal places). According to the table in the question, this means that there is strong evidence against the null hypothesis that humans have no tendency to lean left or right when kissing. ​​"
   ]
  },
  {
   "cell_type": "markdown",
   "id": "75fbb4e6",
   "metadata": {},
   "source": [
    "6. Can a smaller p-value definitively prove that the null hypothesis is false? Is it possible to definitively prove that Fido (from the \"second pre-lecture video\") is innocent using a p-value? Is it possible to difinitively prove that Fido is guilty using a p-value? How low or high does a p-value have to be to definitely prove one or the other? Explain this concisely in your own words."
   ]
  },
  {
   "cell_type": "markdown",
   "id": "0f67d5c4",
   "metadata": {},
   "source": [
    "A small p-value does not definitively prove that the null hypothesis is false. The p-value simply provides us with a basis for rejecting the null hypothesis, but it does not prove that either the null hypothesis or the alternative hypothesis is absolutely correct.\n",
    "\n",
    "For the Fido example, the p-value does not definitively prove that Fido is innocent or guilty. A low p-value (such as 0.01 or 0.001) only shows that we have reason to doubt the null hypothesis (assuming that Fido is not guilty), but does not definitively prove that he is guilty. Conversely, a high p-value does not definitively prove that he is not guilty, but only that the data does not provide enough evidence to reject the hypothesis that he is not guilty."
   ]
  },
  {
   "cell_type": "markdown",
   "id": "4d7adf3c",
   "metadata": {},
   "source": [
    "7. In the second half of the \"first pre-lecture video\" the concept of a \"one sided\" (or \"one tailed\") test is introduced in contrast to a \"two sided\" (or \"two tailed\") test. Work with a ChatBot to adjust the code from \"Demo II of the Week 5 TUT\" (which revisits the \"Vaccine Data Analysis Assignment\" from Week 04 HW \"Question 8\") in order to compute a p-value for a \"one sided\" (or \"one tailed\") hypothesis test rather than the \"two sided\" (or \"two tailed\") version it provides. Describe (perhaps with the help of your ChatBot) what changed in the code; how this changes the interpretation of the hypothesis test; and whether or not we should indeed expect the p-value to be smaller in the \"one tailed\" versus \"two tailed\" analysis."
   ]
  },
  {
   "cell_type": "markdown",
   "id": "0aeb9408",
   "metadata": {},
   "source": [
    "When calculating the p-value, we need to change the result of the two-tailed test to the result of the one-tailed test. For example, when using scipy.stats.ttest or similar functions, change the alternative parameter from the default \"two-tailed\" to \"one-tailed\":\n",
    "two-tailed:\n",
    "p_value = ttest_1samp(data, null_hypothesis_mean).pvalue\n",
    "\n",
    "one-tailed:\n",
    "p_value = ttest_1samp(data, null_hypothesis_mean, alternative='less').pvalue"
   ]
  },
  {
   "cell_type": "markdown",
   "id": "c100b936",
   "metadata": {},
   "source": [
    "Two-tailed test: In a two-tailed test, we test whether there is enough evidence to reject the null hypothesis, that is, whether the data is significantly different from the null hypothesis, which may be larger or smaller than the null hypothesis value.\n",
    "One-sided test: In a one-tailed test, we focus on only one direction. For example, in the example of vaccine data, if we only care about whether the vaccine is effective (that is, whether a certain parameter is greater than the null hypothesis), then a one-tailed test is more appropriate, because we only care about the extreme cases on the right-hand side.\n",
    "\n",
    "The p-value for a one-tailed test will usually be smaller than the p-value for a two-tailed test. Because a two-tailed test counts extremes in both directions into the p-value, whereas a one-tailed test only considers one direction, the range of extreme values ​​we \"allow\" shrinks, making the p-value smaller. Therefore, under the same sample and test conditions, the p-value of a one-tailed test will tend to be smaller than that of a two-tailed test."
   ]
  },
  {
   "cell_type": "markdown",
   "id": "3da9a5ea",
   "metadata": {},
   "source": [
    "8. Complete the following assignment."
   ]
  },
  {
   "cell_type": "markdown",
   "id": "e140c1cc",
   "metadata": {},
   "source": [
    "To analyze this experiment, a hypothesis test is needed to determine whether these students' results were the result of random guessing or whether there is evidence that they were able to correctly identify whether tea or milk was poured first.\n",
    "\n",
    "Set assumptions:\n",
    "Null hypothesis H 0: Students guessed randomly and the correct rate should be 50% (that is, each student has a 0.5 probability of guessing correctly).\n",
    "Alternative Hypothesis H A: Students' accuracy is significantly different from 50%, indicating that they are not guessing at random.\n",
    "Data were analyzed using the binomial test, where:\n",
    "\n",
    "Sample size n=80\n",
    "Number of successes (number of correct guesses) x=49\n",
    "The probability of success under the null hypothesis p 0=0.5\n",
    "\n",
    "step:\n",
    "Calculate the observed success rate of the sample:\n",
    "The observed proportion of correct guesses is 80/49=0.6125.\n",
    "\n",
    "Calculate p-value:\n",
    "Calculate the probability of observing an outcome more extreme than 49 correct guesses using a binomial test, assuming that under the null hypothesis the probability of success is 0.5.\n",
    "The p-value is approximately 0.057.\n",
    "\n",
    "This means that the probability of 49 students guessing correctly given that the null hypothesis is true is 0.057. This p-value is slightly larger than the common significance level of 0.05, so the null hypothesis cannot be rejected with 95% confidence. This suggests that there is insufficient evidence to support that the students' guesses in this experiment were not random."
   ]
  },
  {
   "cell_type": "markdown",
   "id": "f787b3ff",
   "metadata": {},
   "source": [
    "9. Have you reviewed the course wiki-textbook and interacted with a ChatBot (or, if that wasn't sufficient, real people in the course piazza discussion board or TA office hours) to help you understand all the material in the tutorial and lecture that you didn't quite follow when you first saw it?"
   ]
  },
  {
   "cell_type": "markdown",
   "id": "40cac879",
   "metadata": {},
   "source": [
    "Yes, I have reviewed the course wiki and interacted with the ChatBot to help me understand things that I didn't quite understand the first time I saw them in the tutorials and lectures. I also communicated with people through the course forums or TA office hours when needed."
   ]
  },
  {
   "cell_type": "markdown",
   "id": "00ca5085",
   "metadata": {},
   "source": [
    "Chatbot link:https://chatgpt.com/c/670330ad-c98c-8004-a12b-a91b1d92c489#"
   ]
  }
 ],
 "metadata": {
  "kernelspec": {
   "display_name": "Python 3 (ipykernel)",
   "language": "python",
   "name": "python3"
  },
  "language_info": {
   "codemirror_mode": {
    "name": "ipython",
    "version": 3
   },
   "file_extension": ".py",
   "mimetype": "text/x-python",
   "name": "python",
   "nbconvert_exporter": "python",
   "pygments_lexer": "ipython3",
   "version": "3.11.6"
  }
 },
 "nbformat": 4,
 "nbformat_minor": 5
}
